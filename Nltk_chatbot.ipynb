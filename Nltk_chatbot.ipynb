{
  "nbformat": 4,
  "nbformat_minor": 0,
  "metadata": {
    "colab": {
      "provenance": [],
      "authorship_tag": "ABX9TyMfoTPp7J6VF6LdMuhFoate",
      "include_colab_link": true
    },
    "kernelspec": {
      "name": "python3",
      "display_name": "Python 3"
    },
    "language_info": {
      "name": "python"
    }
  },
  "cells": [
    {
      "cell_type": "markdown",
      "metadata": {
        "id": "view-in-github",
        "colab_type": "text"
      },
      "source": [
        "<a href=\"https://colab.research.google.com/github/saiyam-kat/saiyam-kat/blob/main/Nltk_chatbot.ipynb\" target=\"_parent\"><img src=\"https://colab.research.google.com/assets/colab-badge.svg\" alt=\"Open In Colab\"/></a>"
      ]
    },
    {
      "cell_type": "markdown",
      "source": [],
      "metadata": {
        "id": "IkE-rET3ihAZ"
      }
    },
    {
      "cell_type": "code",
      "execution_count": null,
      "metadata": {
        "id": "L38nG-4cY_Xb"
      },
      "outputs": [],
      "source": [
        "import numpy as np\n",
        "import nltk\n",
        "import string\n",
        "import random\n",
        "\n",
        "f = open('/content/data.txt','r',errors='ignor')\n",
        "raw_doc = f.read()\n",
        "raw_doc"
      ]
    },
    {
      "cell_type": "code",
      "source": [
        "raw_doc = raw_doc.lower() #converting entire text into lowercase\n",
        "nltk.download('punkt') #using the punkt tokenizer\n",
        "nltk.download('wordnet')# using\n",
        "nltk.download('omw-1.4')\n",
        "sentence_tokens =  nltk.sent_tokenize(raw_doc)\n",
        "word_tokens = nltk.word_tokenize(raw_doc)"
      ],
      "metadata": {
        "id": "Vwzf4N5zLxiY"
      },
      "execution_count": null,
      "outputs": []
    },
    {
      "cell_type": "code",
      "source": [
        "\n",
        "\n",
        "sentence_tokens = nltk.sent_tokenize(raw_doc)\n",
        "word_tokens = nltk.word_tokenize(raw_doc)"
      ],
      "metadata": {
        "id": "KYUaj3WlMeMU"
      },
      "execution_count": null,
      "outputs": []
    },
    {
      "cell_type": "code",
      "source": [
        "lemmer =  nltk.stem.WordNetLemmatizer()\n",
        "def LemTokens(tokens):\n",
        "    return[lemmer.lemmatize(tokens) for token in tokens ]\n",
        "remove_punc_dict = dict((ord(punct), None) for punct in string.punctuation)\n",
        "def LemNormalize(text):\n",
        "    return LemTokens(nltk.word_tokenize(text.lower().translate(remove_punc_dict)))\n"
      ],
      "metadata": {
        "id": "GW5DvrvHMvV1"
      },
      "execution_count": null,
      "outputs": []
    },
    {
      "cell_type": "code",
      "source": [
        "greet_inputs = ('hello','hi','whassup','how are you?')\n",
        "greet_responses = ('hi', 'Hey','Hey There!','There there !!' )\n",
        "def greet(sentence):\n",
        "    for word in sentence.split():\n",
        "        if word.lower() in greet_inputs:\n",
        "            return random.choice(greet_responses)"
      ],
      "metadata": {
        "id": "98n_kPVkNtq2"
      },
      "execution_count": null,
      "outputs": []
    },
    {
      "cell_type": "code",
      "source": [
        "from sklearn.feature_extraction.text import TfidfVectorizer\n",
        "from sklearn.metrics.pairwise import cosine_similarity"
      ],
      "metadata": {
        "id": "tS-EuWlrN0Rq"
      },
      "execution_count": null,
      "outputs": []
    },
    {
      "cell_type": "code",
      "source": [
        "\n",
        "def response(user_response):\n",
        "    robo1_response = ''\n",
        "    TfidfVec =TfidfVectorizer(tokenizer = LemNormalize, stop_words = 'english')\n",
        "    Tfidf = TfidfVec.fit_transform(sentence_tokens)\n",
        "    vals = cosine_similarity(Tfidf[-1],Tfidf)\n",
        "    idx = vals.argsort()[0][-2]\n",
        "    flat = vals.flatten()\n",
        "    flat.sort()\n",
        "    req_tfidf = flat[-2]\n",
        "    if (req_tfidf == 0):\n",
        "        robo1_response = robo1_response + \"I am sorry. Unable to understand you!\"\n",
        "        return robo1_response\n",
        "    else:\n",
        "        robo1_response =robo1_response+ sentence_tokens[idx]\n",
        "        return robo1_response\n"
      ],
      "metadata": {
        "id": "-LlhYlG6N3ld"
      },
      "execution_count": null,
      "outputs": []
    },
    {
      "cell_type": "code",
      "source": [
        "\n",
        "flag = True\n",
        "print('Hello! I am the retrival Learning Bot, Start typing your text after greeting to talk to me. For ending convo type by! ')\n",
        "while(flag == True):\n",
        "    user_response = input()\n",
        "    user_response = user_response.lower()\n",
        "    if(user_response != 'bye'):\n",
        "        if(user_response == 'thank you' or user_response == 'thanks'):\n",
        "            flag = False\n",
        "            print('Bot: You are Welcome ')\n",
        "        else:\n",
        "            if(greet(user_response) != None):\n",
        "              print('Bot: '+ greet(user_response))\n",
        "            else:\n",
        "              sentence_tokens.append(user_response)\n",
        "              word_tokens = word_tokens + nltk.word_tokenize(user_response)\n",
        "              final_words = list(set(word_tokens))\n",
        "              print('Bot: ', end='')\n",
        "              print(response(user_response))\n",
        "              sentence_tokens.remove(user_response)\n",
        "    else:\n",
        "        flag = False\n",
        "        print('Bot: Goodbye')"
      ],
      "metadata": {
        "colab": {
          "base_uri": "https://localhost:8080/"
        },
        "id": "T7O3zNQ1LoUP",
        "outputId": "5f7b2984-c2ca-4972-d4ea-f333b0dcd983"
      },
      "execution_count": null,
      "outputs": [
        {
          "name": "stdout",
          "output_type": "stream",
          "text": [
            "Hello! I am the retrival Learning Bot, Start typing your text after greeting to talk to me. For ending convo type by! \n",
            "hey\n"
          ]
        },
        {
          "output_type": "stream",
          "name": "stderr",
          "text": [
            "/usr/local/lib/python3.10/dist-packages/sklearn/feature_extraction/text.py:528: UserWarning: The parameter 'token_pattern' will not be used since 'tokenizer' is not None'\n",
            "  warnings.warn(\n",
            "/usr/local/lib/python3.10/dist-packages/sklearn/feature_extraction/text.py:409: UserWarning: Your stop_words may be inconsistent with your preprocessing. Tokenizing the stop words generated tokens ['ha', 'le', 'u', 'wa'] not in stop_words.\n",
            "  warnings.warn(\n"
          ]
        },
        {
          "output_type": "stream",
          "name": "stdout",
          "text": [
            "Bot: I am sorry. Unable to understand you!\n",
            "bye\n",
            "Bot: Goodbye\n"
          ]
        }
      ]
    }
  ]
}